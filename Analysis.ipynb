{
 "cells": [
  {
   "cell_type": "code",
   "execution_count": 1,
   "id": "fb59d8b6",
   "metadata": {},
   "outputs": [],
   "source": [
    "%matplotlib inline\n",
    "import seaborn as sns\n",
    "import numpy as np\n",
    "import matplotlib.pyplot as plt\n",
    "import pandas as pd\n",
    "import networkx as nx\n",
    "from copy import copy"
   ]
  },
  {
   "cell_type": "code",
   "execution_count": 2,
   "id": "9ada1d02",
   "metadata": {},
   "outputs": [
    {
     "name": "stdout",
     "output_type": "stream",
     "text": [
      "Update Icarus config!\n"
     ]
    }
   ],
   "source": [
    "from Games import *\n",
    "import Utility\n",
    "from os import listdir, mkdir\n",
    "from os.path import join, isdir\n",
    "from json import load\n",
    "from glob import glob"
   ]
  },
  {
   "cell_type": "code",
   "execution_count": 3,
   "id": "7e780b53",
   "metadata": {},
   "outputs": [],
   "source": [
    "FIGURE = 'figure'\n",
    "if not isdir(FIGURE):\n",
    "    mkdir(FIGURE)"
   ]
  },
  {
   "cell_type": "code",
   "execution_count": 44,
   "id": "c86701d5",
   "metadata": {},
   "outputs": [],
   "source": [
    "PALETTE = {\n",
    "    \"Policy\": \"red\", \n",
    "    \"Random\": \"orange\", \n",
    "    \"Greedy\": \"green\",\n",
    "}"
   ]
  },
  {
   "cell_type": "code",
   "execution_count": 53,
   "id": "f9dea958",
   "metadata": {},
   "outputs": [],
   "source": [
    "def heatmap(dataframe, graph, bounds, player_name, reward_type, info):\n",
    "    # heat map is only built for both reward\n",
    "    max_x, max_y = bounds\n",
    "    max_val = 0\n",
    "    heatmap_data = {}\n",
    "    \n",
    "    if player_name == None:\n",
    "        p_df = dataframe[dataframe['Reward Type'] == reward_type]\n",
    "    else:\n",
    "        p_df = dataframe[dataframe['Agent'] == player_name]\n",
    "        p_df = p_df[p_df['Reward Type'] == reward_type]\n",
    "    \n",
    "    # This block of code finds the number of elites per grid cell. We\n",
    "    # use this to average the heatmap\n",
    "    counter = {}\n",
    "    for node in graph.nodes:\n",
    "        if '__' in node or node == 'start_node' or node == 'death_node':\n",
    "            continue\n",
    "        \n",
    "        a,b,_ = node.split(',')\n",
    "        key = (int(b), int(a))\n",
    "        if key in counter:\n",
    "            counter[key] += 1\n",
    "        else:\n",
    "            counter[key] = 1\n",
    "    \n",
    "    # build entry in heatmap data \n",
    "    for name, d_df in p_df.groupby('Director'):\n",
    "        data = np.zeros((max_y+1, max_x+1))\n",
    "        mask = np.ones((max_y+1, max_x+1))\n",
    "        \n",
    "        # build the mask\n",
    "        for n in graph.nodes:\n",
    "            if '__' in n or n == 'start_node' or n == 'death_node':\n",
    "                continue\n",
    "\n",
    "            a,b,_ = n.split(',')\n",
    "            mask[int(b)][int(a)] = 0.0\n",
    "            \n",
    "        # build heatmap occurrences for each node\n",
    "        for i, row in d_df.iterrows():\n",
    "            for n in row.Nodes:\n",
    "                if '__' in n:\n",
    "                    continue\n",
    "\n",
    "                a, b, _ = n.split(',')\n",
    "                data[int(b)][int(a)] += 1.0\n",
    "                \n",
    "        # average the heatmap for the number of runs and cells\n",
    "        for (y,x), count in counter.items():\n",
    "            data[y][x] /= info['runs']*count\n",
    "            max_val = max(data[y][x], max_val) \n",
    "        \n",
    "        # store heatmap data\n",
    "        heatmap_data[name] = (data, mask)\n",
    "    \n",
    "    fig, axes = plt.subplots(1, 3, sharex=True, sharey=True, figsize=(20,4))\n",
    "    cbar_ax = fig.add_axes([.92, .1, .02, .77])\n",
    "    \n",
    "    ordered_directors = list(heatmap_data.keys())\n",
    "    ordered_directors.sort()\n",
    "    \n",
    "    cmap = copy(plt.get_cmap('vlag'))\n",
    "    cmap.set_under('gray')\n",
    "\n",
    "    for i, director in enumerate(ordered_directors):\n",
    "        data, mask = heatmap_data[director]\n",
    "        ax = sns.heatmap(\n",
    "            data, \n",
    "            mask=mask,\n",
    "            square=True,\n",
    "            cmap=cmap,\n",
    "            ax=axes[i],\n",
    "            cbar_ax=cbar_ax if i == 2 else None,\n",
    "            cbar=i==2,\n",
    "            vmin=0.01,\n",
    "            vmax=max_val\n",
    "        )\n",
    "        \n",
    "        axes[i].invert_yaxis()\n",
    "#         axes[i].set_title(f'{director}', y=-0.1)\n",
    "        axes[i].set_title(director)\n",
    "        axes[i].set_facecolor(\"black\")\n",
    "        axes[i].set_xticks([])\n",
    "        axes[i].set_yticks([])\n",
    "        axes[i].set_aspect('auto')\n",
    "        \n",
    "        if i == 0:\n",
    "            axes[i].set_ylabel('Leniency', fontsize=14)\n",
    "    \n",
    "    if player_name ==None:\n",
    "        fig.suptitle(f'Switching Players Graph', fontsize=16, y=0.99)\n",
    "        \n",
    "    else:\n",
    "        if 'Likes High A' in player_name:\n",
    "            player_name = player_name.replace('High A', 'High Density')\n",
    "        elif 'Likes High B' in player_name:\n",
    "            player_name = player_name.replace('High B', 'High Leniency')\n",
    "        \n",
    "        fig.suptitle(f'{player_name} for {reward_type} Reward', fontsize=16, y=0.99)\n",
    "    fig.text(0.5, 0.02, 'Density', ha='center', size=14)\n",
    "#     plt.show()\n",
    "    plt.savefig(f'figure/segment_heatmap_{player_name}_{reward_type}.pdf') "
   ]
  },
  {
   "cell_type": "code",
   "execution_count": 18,
   "id": "9fc6f702",
   "metadata": {},
   "outputs": [],
   "source": [
    "def heatmap_no_greedy(dataframe, graph, bounds, player_name, reward_type, info):\n",
    "    # heat map is only built for both reward\n",
    "    max_x, max_y = bounds\n",
    "    max_val = 0\n",
    "    heatmap_data = {}\n",
    "    \n",
    "    if player_name == None:\n",
    "        p_df = dataframe[dataframe['Reward Type'] == reward_type]\n",
    "    else:\n",
    "        p_df = dataframe[dataframe['Agent'] == player_name]\n",
    "        p_df = p_df[p_df['Reward Type'] == reward_type]\n",
    "    \n",
    "    # This block of code finds the number of elites per grid cell. We\n",
    "    # use this to average the heatmap\n",
    "    counter = {}\n",
    "    for node in graph.nodes:\n",
    "        if '__' in node:\n",
    "            continue\n",
    "\n",
    "        a,b,_ = node.split('_')\n",
    "        key = (int(b), int(a))\n",
    "        if key in counter:\n",
    "            counter[key] += 1\n",
    "        else:\n",
    "            counter[key] = 1\n",
    "    \n",
    "    # build entry in heatmap data \n",
    "    for name, d_df in p_df.groupby('Director'):\n",
    "        if name == 'Greedy':\n",
    "            continue\n",
    "            \n",
    "        data = np.zeros((max_y+1, max_x+1))\n",
    "        mask = np.ones((max_y+1, max_x+1))\n",
    "        \n",
    "        # build the mask\n",
    "        for n in graph.nodes:\n",
    "            if '__' in n:\n",
    "                continue\n",
    "\n",
    "            a,b,_ = n.split(',')\n",
    "            mask[int(b)][int(a)] = 0.0\n",
    "            \n",
    "        # build heatmap occurrences for each node\n",
    "        for i, row in d_df.iterrows():\n",
    "            for n in row.Nodes:\n",
    "                if '__' in n:\n",
    "                    continue\n",
    "\n",
    "                a, b, _ = n.split(',')\n",
    "                data[int(b)][int(a)] += 1.0\n",
    "                \n",
    "        # average the heatmap for the number of runs and cells\n",
    "        for (y,x), count in counter.items():\n",
    "            data[y][x] /= info['runs']*count\n",
    "            max_val = max(data[y][x], max_val) \n",
    "        \n",
    "        # store heatmap data\n",
    "        heatmap_data[name] = (data, mask)\n",
    "    \n",
    "    fig, axes = plt.subplots(1, 3, sharex=True, sharey=True, figsize=(20,4))\n",
    "    cbar_ax = fig.add_axes([.92, .1, .02, .77])\n",
    "    \n",
    "    ordered_directors = list(heatmap_data.keys())\n",
    "    ordered_directors.sort()\n",
    "    \n",
    "    cmap = copy(plt.get_cmap('Greens_r'))\n",
    "    cmap.set_under('gray')\n",
    "\n",
    "    for i, director in enumerate(ordered_directors):\n",
    "        data, mask = heatmap_data[director]\n",
    "        ax = sns.heatmap(\n",
    "            data, \n",
    "            mask=mask,\n",
    "            square=True,\n",
    "            cmap=cmap,\n",
    "            ax=axes[i],\n",
    "            cbar_ax=None if i != 2 else cbar_ax,\n",
    "            cbar=i==2,\n",
    "            vmin=0.01,\n",
    "            vmax=max_val\n",
    "        )\n",
    "        \n",
    "        axes[i].invert_yaxis()\n",
    "#         axes[i].set_title(f'{director}', y=-0.1)\n",
    "        axes[i].set_title(director)\n",
    "        axes[i].set_facecolor(\"black\")\n",
    "        axes[i].set_xticks([])\n",
    "        axes[i].set_yticks([])\n",
    "        axes[i].set_aspect('auto')\n",
    "        \n",
    "        if i == 0:\n",
    "            axes[i].set_ylabel('Leniency', fontsize=14)\n",
    "    \n",
    "    if player_name ==None:\n",
    "        fig.suptitle(f'Switching Players Graph', fontsize=16, y=0.99)\n",
    "        \n",
    "    else:\n",
    "        if 'Likes High A' in player_name:\n",
    "            player_name = player_name.replace('High A', 'High Density')\n",
    "        elif 'Likes High B' in player_name:\n",
    "            player_name = player_name.replace('High B', 'High Leniency')\n",
    "        \n",
    "        fig.suptitle(f'{player_name} for {reward_type} Reward', fontsize=16, y=0.99)\n",
    "    fig.text(0.5, 0.02, 'Density', ha='center', size=14)\n",
    "#     plt.show()\n",
    "    plt.savefig(f'figure/segment_heatmap_no_greedy_{player_name}_{reward_type}.pdf') "
   ]
  },
  {
   "cell_type": "code",
   "execution_count": 7,
   "id": "544f1121",
   "metadata": {},
   "outputs": [],
   "source": [
    "def switch_heatmap(dataframe, graph, bounds, player_name, reward_type, info):\n",
    "    # heat map is only built for both reward\n",
    "    max_x, max_y = bounds\n",
    "    max_val = 0\n",
    "    heatmap_data = {}\n",
    "    \n",
    "    if player_name == None:\n",
    "        p_df = dataframe[dataframe['Reward Type'] == reward_type]\n",
    "    else:\n",
    "        p_df = dataframe[dataframe['Agent'] == player_name]\n",
    "        p_df = p_df[p_df['Reward Type'] == reward_type]\n",
    "    \n",
    "    # This block of code finds the number of elites per grid cell. We\n",
    "    # use this to average the heatmap\n",
    "    counter = {}\n",
    "    for node in graph.nodes:\n",
    "        if '__' in node:\n",
    "            continue\n",
    "\n",
    "        a,b,_ = node.split('_')\n",
    "        key = (int(b), int(a))\n",
    "        if key in counter:\n",
    "            counter[key] += 1\n",
    "        else:\n",
    "            counter[key] = 1\n",
    "    \n",
    "    # build entry in heatmap data \n",
    "    for name, d_df in p_df.groupby('Director'):\n",
    "        min_level = 0\n",
    "        heatmap_data[name] = [None, None]\n",
    "        for index, percentage in enumerate([0.7, 0.3]):\n",
    "            data = np.zeros((max_y+1, max_x+1))\n",
    "            mask = np.ones((max_y+1, max_x+1))\n",
    "            \n",
    "            # filter for the correct split in levels\n",
    "            old_min_level = min_level\n",
    "            min_level += int((df.Level.max()+1)*percentage)\n",
    "            r_df = d_df[d_df.Level.between(old_min_level-1, min_level)]\n",
    "            \n",
    "            # build the mask\n",
    "            for n in graph.nodes:\n",
    "                if '__' in n:\n",
    "                    continue\n",
    "\n",
    "                a,b,_ = n.split(',')\n",
    "                mask[int(b)][int(a)] = 0.0\n",
    "\n",
    "            # build heatmap occurrences for each node\n",
    "            for i, row in r_df.iterrows():\n",
    "                for n in row.Nodes:\n",
    "                    if '__' in n:\n",
    "                        continue\n",
    "\n",
    "                    a, b, _ = n.split(',')\n",
    "                    data[int(b)][int(a)] += 1.0\n",
    "\n",
    "            # average the heatmap for the number of runs and cells\n",
    "            for (y,x), count in counter.items():\n",
    "                data[y][x] /= info['runs']*count\n",
    "                max_val = max(data[y][x], max_val) \n",
    "\n",
    "            # store heatmap data\n",
    "            heatmap_data[name][index] = (data, mask)\n",
    "    \n",
    "    fig, axes = plt.subplots(2, 4, sharex=True, sharey=True, figsize=(20,8))\n",
    "    cbar_ax = fig.add_axes([.92, .1, .02, .77])\n",
    "    \n",
    "    ordered_directors = list(heatmap_data.keys())\n",
    "    ordered_directors.sort()\n",
    "    \n",
    "    cmap = copy(plt.get_cmap('vlag'))\n",
    "    cmap.set_under('gray')\n",
    "\n",
    "    for i, director in enumerate(ordered_directors):\n",
    "        for j in range(2):\n",
    "            data, mask = heatmap_data[director][j]\n",
    "            ax = sns.heatmap(\n",
    "                data, \n",
    "                mask=mask,\n",
    "                square=True,\n",
    "                cmap=cmap,\n",
    "                ax=axes[j,i],\n",
    "                cbar_ax=None if i != 3 else cbar_ax,\n",
    "                cbar=i==3,\n",
    "                vmin=0.01,\n",
    "                vmax=max_val\n",
    "            )\n",
    "\n",
    "            axes[j,i].invert_yaxis()\n",
    "    #         axes[i].set_title(f'{director}', y=-0.1)\n",
    "            axes[j,i].set_title(director)\n",
    "            axes[j,i].set_facecolor(\"black\")\n",
    "            axes[j,i].set_xticks([])\n",
    "            axes[j,i].set_yticks([])\n",
    "            axes[j,i].set_aspect('auto')\n",
    "\n",
    "            if i == 0:\n",
    "                axes[j,i].set_ylabel('Leniency', fontsize=14)\n",
    "    \n",
    "    if player_name ==None:\n",
    "        fig.suptitle(f'Switching From Mediocre Player to Bad Player with {reward_type} Reward', fontsize=16, y=0.99)\n",
    "    else:\n",
    "        if 'Likes High A' in player_name:\n",
    "            player_name = player_name.replace('High A', 'High Density')\n",
    "        elif 'Likes High B' in player_name:\n",
    "            player_name = player_name.replace('High B', 'High Leniency')\n",
    "        \n",
    "        fig.suptitle(f'{player_name} for {reward_type} Reward', fontsize=16, y=0.99)\n",
    "        \n",
    "    def convert(name):\n",
    "        if 'Likes High A' in name:\n",
    "            return name.replace('High A', 'High Density')\n",
    "        elif 'Likes High B' in name:\n",
    "            return name.replace('High B', 'High Leniency')\n",
    "        return name\n",
    "        \n",
    "    fig.text(0.5, 0.02, 'Density', ha='center', size=14)\n",
    "    fig.text(0.099, 0.55, convert(info['players'][0]), rotation=90, ha='center', size=14)\n",
    "    fig.text(0.099, 0.11, convert(info['players'][1]), rotation=90, ha='center', size=14)\n",
    "#     plt.show()\n",
    "    plt.savefig('figure/switch_heatmap.pdf')     "
   ]
  },
  {
   "cell_type": "code",
   "execution_count": 8,
   "id": "8e9d35a8",
   "metadata": {},
   "outputs": [],
   "source": [
    "def get_all_player_playthroughs(config, start):\n",
    "    d = []\n",
    "    info = None\n",
    "    \n",
    "    for path in glob(join(config.BASE_DIR, f'{start}*reward_*.json')):\n",
    "        path_split = path.split('/')[-1].split('_')\n",
    "        player = path_split[1]\n",
    "        director = path_split[-3]\n",
    "        reward = path_split[-1].split('.')[0]\n",
    "        \n",
    "        with open(path, 'r') as f:\n",
    "            temp = load(f)\n",
    "            data = temp['data']\n",
    "            info = temp['info']\n",
    "        \n",
    "        for i_session, session in enumerate(data):\n",
    "            for i_run, run in enumerate(session):\n",
    "                nodes = []\n",
    "                sum_percent_complete = 0\n",
    "                sum_percent_design = 0\n",
    "                sum_percent_player = 0\n",
    "                sum_percent_total = 0\n",
    "                \n",
    "                for entry in run['Playthrough']:\n",
    "                    nodes.append(entry['node_name'])\n",
    "                    \n",
    "                    sum_percent_complete += entry['Percent Completable']\n",
    "                    sum_percent_design += entry['Designer Reward']\n",
    "                    sum_percent_player += entry['Agent Reward']\n",
    "                    sum_percent_total += entry['Total Reward']\n",
    "                    \n",
    "#                 d.append((\n",
    "#                     reward, \n",
    "#                     player, \n",
    "#                     director,\n",
    "#                     i_run,\n",
    "#                     sum_percent_complete,\n",
    "#                     sum_percent_design,\n",
    "#                     sum_percent_player,\n",
    "#                     sum_percent_total,\n",
    "#                     nodes\n",
    "#                 ))\n",
    "                    \n",
    "                d.append((\n",
    "                    reward, \n",
    "                    player, \n",
    "                    director,\n",
    "                    i_run,\n",
    "                    run['percent_complete'],\n",
    "                    run['percent_design_reward'],\n",
    "                    run['percent_player_reward'],\n",
    "                    run['percent_total_reward'],\n",
    "                    run['percent_reward'],\n",
    "                    nodes\n",
    "                ))\n",
    "    \n",
    "    labels = (\n",
    "        'Reward Type', \n",
    "        'Agent', \n",
    "        'Director',\n",
    "        'Level',\n",
    "        'Percent Complete', \n",
    "        'Design Reward', \n",
    "        'Player Reward', \n",
    "        'Total Reward',\n",
    "        'Reward',\n",
    "        'Nodes'\n",
    "    )\n",
    "    return pd.DataFrame(d, columns=labels), info"
   ]
  },
  {
   "cell_type": "code",
   "execution_count": 9,
   "id": "85af5611",
   "metadata": {},
   "outputs": [],
   "source": [
    "def plot_player_personas_over_time(df):\n",
    "    # sort keys so the output is always in the same order\n",
    "    player_names = list(df.Agent.unique())\n",
    "    player_names.sort()\n",
    "    \n",
    "    reward_names = ['BOTH', 'Percent Complete']\n",
    "#     reward_names = ['DESIGNER', 'PLAYER', 'BOTH', 'Percent Complete']\n",
    "    \n",
    "    # build plots and set title\n",
    "    fig, axes = plt.subplots(len(reward_names), len(player_names), sharex=True, sharey=True, figsize=(20,8))\n",
    "    fig.suptitle(f'Average Reward Per Level for Icarus', fontsize=16)\n",
    "    \n",
    "    # fill in each plot\n",
    "    for y, name in enumerate(reward_names):\n",
    "        for x, player in enumerate(player_names):\n",
    "            if name == 'Percent Complete':\n",
    "                g_df = df[df['Reward Type'] == 'BOTH']\n",
    "            else:\n",
    "                g_df = df[df['Reward Type'] == name]\n",
    "                \n",
    "            g_df = g_df[g_df['Agent'] == player]\n",
    "            \n",
    "            if name == 'Percent Complete':\n",
    "                ax = sns.lineplot(ax=axes[y, x], data=g_df, x='Level', y='Percent Complete', hue='Director', palette=PALETTE)\n",
    "            else:\n",
    "                ax = sns.lineplot(ax=axes[y, x], data=g_df, x='Level', y='Reward', hue='Director', palette=PALETTE)\n",
    "            ax.get_legend().remove()\n",
    "            ax.set_xlabel('')\n",
    "            ax.set_ylabel(REWARD_MAP[name])\n",
    "            \n",
    "            if y == 0:\n",
    "                if 'Likes High A' in player:\n",
    "                    player = player.replace('High A', 'High Density')\n",
    "                elif 'Likes High B' in player:\n",
    "                    player = player.replace('High B', 'High Leniency')\n",
    "                    \n",
    "                ax.set_title('Likes\\n'.join(player.split('Likes')), fontsize=12)\n",
    "                \n",
    "            if x == 0:\n",
    "                ax.set_ylabel(name, fontsize=14)\n",
    "            else:\n",
    "                ax.set_ylabel('')\n",
    "                \n",
    "    handles, labels = ax.get_legend_handles_labels()\n",
    "    fig.legend(handles, labels, loc='upper right', ncol=2, bbox_to_anchor=(.905, 0.99))\n",
    "    fig.text(0.5, 0.08, 'Level', ha='center', size=14)\n",
    "#     fig.text(0.08, 0.5, 'Reward', va='center', rotation='vertical', size=14)\n",
    "#     plt.show()\n",
    "    plt.savefig('figure/icarus_segments_graph.pdf')     "
   ]
  },
  {
   "cell_type": "markdown",
   "id": "2d738d4e",
   "metadata": {},
   "source": [
    "# Icarus Level Segments"
   ]
  },
  {
   "cell_type": "code",
   "execution_count": 59,
   "id": "d70962cc",
   "metadata": {},
   "outputs": [
    {
     "name": "stdout",
     "output_type": "stream",
     "text": [
      "Loading links from: ./GramElitesData/IcarusData/gram_elites/links_True.json\n"
     ]
    }
   ],
   "source": [
    "config = Icarus\n",
    "graph = Utility.get_level_segment_graph(config, True)\n",
    "\n",
    "REWARD_MAP = {\n",
    "    'DESIGNER': 'Design Reward',\n",
    "    'PLAYER': 'Player Reward',\n",
    "    'BOTH': 'Total Reward',\n",
    "    'Percent Complete': 'Percent Complete',\n",
    "}\n",
    "\n",
    "REWARD_STR = Utility.reward_type_to_str(Utility.RewardType.DESIGNER)\n",
    "df, info = get_all_player_playthroughs(config, 'player')"
   ]
  },
  {
   "cell_type": "code",
   "execution_count": null,
   "id": "7d7be6a0",
   "metadata": {
    "scrolled": false
   },
   "outputs": [],
   "source": [
    "plot_player_personas_over_time(df)"
   ]
  },
  {
   "cell_type": "code",
   "execution_count": null,
   "id": "e85cfbf5",
   "metadata": {},
   "outputs": [],
   "source": [
    "heatmap(df, graph, config.MAX_BC, 'Good Player Likes Easy Levels', 'BOTH', info) "
   ]
  },
  {
   "cell_type": "code",
   "execution_count": 55,
   "id": "14f64037",
   "metadata": {},
   "outputs": [
    {
     "data": {
      "image/png": "[encoded data removed]",
      "text/plain": [
       "<Figure size 1440x288 with 4 Axes>"
      ]
     },
     "metadata": {
      "needs_background": "light"
     },
     "output_type": "display_data"
    }
   ],
   "source": [
    "heatmap(df, graph, config.MAX_BC, 'Bad Player Likes Hard Levels', 'BOTH', info) "
   ]
  },
  {
   "cell_type": "code",
   "execution_count": 56,
   "id": "a81e4017",
   "metadata": {
    "scrolled": false
   },
   "outputs": [
    {
     "data": {
      "image/png": "[encoded data removed]",
      "text/plain": [
       "<Figure size 1440x288 with 4 Axes>"
      ]
     },
     "metadata": {
      "needs_background": "light"
     },
     "output_type": "display_data"
    }
   ],
   "source": [
    "heatmap(df, graph, config.MAX_BC, 'Mediocre Player Likes High A', 'PLAYER', info) "
   ]
  },
  {
   "cell_type": "code",
   "execution_count": 57,
   "id": "047de1a8",
   "metadata": {},
   "outputs": [
    {
     "data": {
      "image/png": "[encoded data removed]",
      "text/plain": [
       "<Figure size 1440x288 with 4 Axes>"
      ]
     },
     "metadata": {
      "needs_background": "light"
     },
     "output_type": "display_data"
    }
   ],
   "source": [
    "heatmap(df, graph, config.MAX_BC, 'Mediocre Player Likes High B', 'BOTH', info) "
   ]
  },
  {
   "cell_type": "code",
   "execution_count": 58,
   "id": "120258a5",
   "metadata": {},
   "outputs": [
    {
     "data": {
      "image/png": "[encoded data removed]",
      "text/plain": [
       "<Figure size 1440x288 with 4 Axes>"
      ]
     },
     "metadata": {
      "needs_background": "light"
     },
     "output_type": "display_data"
    }
   ],
   "source": [
    "heatmap(df, graph, config.MAX_BC, 'Good Player Likes Hard Levels', 'BOTH', info) "
   ]
  },
  {
   "cell_type": "markdown",
   "id": "bb110244",
   "metadata": {},
   "source": [
    "# Switching Players"
   ]
  },
  {
   "cell_type": "code",
   "execution_count": null,
   "id": "3dbea1c4",
   "metadata": {},
   "outputs": [],
   "source": [
    "config = Icarus\n",
    "graph = Utility.get_level_segment_graph(config, True)\n",
    "\n",
    "rewards = ('Design Reward', 'Player Reward', 'Both Reward')\n",
    "\n",
    "REWARD_STR = Utility.reward_type_to_str(Utility.RewardType.BOTH)\n",
    "df, info = get_all_player_playthroughs(config, 'switch')"
   ]
  },
  {
   "cell_type": "code",
   "execution_count": null,
   "id": "34397a99",
   "metadata": {},
   "outputs": [],
   "source": [
    "fig, axes = plt.subplots(2, 1, figsize=(5,10))\n",
    "\n",
    "fig.suptitle(f'Switching From Good Player to Bad Player for BOTH Reward', fontsize=16, y=0.99)\n",
    "ax = sns.lineplot(ax=axes[0], data=df, x='Level', y='Reward', hue='Director', palette=PALETTE)\n",
    "ax.set(ylim=(0, 1.05))\n",
    "axes[0].set_ylabel('Reward')\n",
    "axes[0].get_legend().remove()\n",
    "\n",
    "ax = sns.lineplot(ax=axes[1], data=df, x='Level', y='Percent Complete', hue='Director', palette=PALETTE)\n",
    "ax.set(ylim=(0, 1.05))\n",
    "\n",
    "plt.savefig('figure/switching_players_reward.pdf', bbox_inches='tight')  "
   ]
  },
  {
   "cell_type": "code",
   "execution_count": null,
   "id": "3eaaddd2",
   "metadata": {
    "scrolled": false
   },
   "outputs": [],
   "source": [
    "switch_heatmap(df, graph, config.MAX_BC, None, 'BOTH', info)"
   ]
  },
  {
   "cell_type": "code",
   "execution_count": null,
   "id": "1bd95f13",
   "metadata": {},
   "outputs": [],
   "source": [
    "df.groupby(['Director']).mean('Reward')"
   ]
  },
  {
   "cell_type": "code",
   "execution_count": null,
   "id": "1c4ac4f0",
   "metadata": {},
   "outputs": [],
   "source": [
    "df"
   ]
  },
  {
   "cell_type": "markdown",
   "id": "f8f61942",
   "metadata": {},
   "source": [
    "# N-Gram"
   ]
  },
  {
   "cell_type": "code",
   "execution_count": null,
   "id": "e3641cdc",
   "metadata": {},
   "outputs": [],
   "source": [
    "config = Mario\n",
    "graph = Utility.get_level_segment_graph(config, True)\n",
    "\n",
    "rewards = ('Design Reward', 'Player Reward', 'Both Reward')\n",
    "\n",
    "REWARD_STR = Utility.reward_type_to_str(Utility.RewardType.DESIGNER)\n",
    "df, info = get_all_player_playthroughs(config, 'player')"
   ]
  },
  {
   "cell_type": "code",
   "execution_count": null,
   "id": "c441402b",
   "metadata": {
    "scrolled": false
   },
   "outputs": [],
   "source": [
    "fig, axes = plt.subplots(1, 4, sharex=True, sharey=True, figsize=(20,4))\n",
    "    \n",
    "for i, rt in enumerate(['DESIGNER', 'PLAYER', 'BOTH']):\n",
    "    g_df = df[df['Reward Type'] == rt]\n",
    "    ax = sns.lineplot(ax=axes[i], data=g_df, x='Level', y=REWARD_MAP[rt], hue='Director', palette=PALETTE)\n",
    "    axes[i].set_title(rt)\n",
    "    axes[i].set_ylabel('Reward',fontsize=14)\n",
    "    axes[i].set_xlabel('')\n",
    "    axes[i].get_legend().remove()\n",
    "#     axes[i].tick_params(axis='both', which='both')\n",
    "    axes[i].yaxis.set_tick_params(labelbottom=True)\n",
    "    \n",
    "    \n",
    "g_df = df[df['Reward Type'] == 'BOTH']\n",
    "ax = sns.lineplot(ax=axes[3], data=g_df, x='Level', y='Percent Complete', hue='Director', palette=PALETTE)\n",
    "axes[3].set_title('Percent Complete for BOTH Reward')\n",
    "axes[3].set_ylabel('Percent Complete',fontsize=14)\n",
    "axes[3].set_xlabel('')\n",
    "axes[3].get_legend().remove()\n",
    "axes[3].yaxis.set_tick_params(labelbottom=True)\n",
    "\n",
    "    \n",
    "handles, labels = axes[0].get_legend_handles_labels()   \n",
    "fig.legend(handles, labels, loc='upper right', ncol=1, bbox_to_anchor=(.97, 0.915))\n",
    "fig.text(0.5, 0.01, 'Level', ha='center', size=14)\n",
    "fig.suptitle(f'N-Gram Generation for Mario', fontsize=16,  y=0.99)\n",
    "# plt.show()\n",
    "plt.savefig('figure/n_gram_mario.pdf') "
   ]
  },
  {
   "cell_type": "code",
   "execution_count": null,
   "id": "d83b82fb",
   "metadata": {},
   "outputs": [],
   "source": [
    "g_df = df[df['Reward Type'] == 'DESIGNER']\n",
    "ax = sns.lineplot(data=g_df, x='Level', y='Percent Complete', hue='Director', palette=PALETTE)\n",
    "plt.title('Designer')\n",
    "plt.plot()"
   ]
  },
  {
   "cell_type": "code",
   "execution_count": null,
   "id": "e0e62d69",
   "metadata": {},
   "outputs": [],
   "source": [
    "g_df = df[df['Reward Type'] == 'PLAYER']\n",
    "ax = sns.lineplot(data=g_df, x='Level', y='Percent Complete', hue='Director', palette=PALETTE)\n",
    "plt.title('PLAYER')\n",
    "plt.plot()"
   ]
  },
  {
   "cell_type": "code",
   "execution_count": null,
   "id": "8a7e5007",
   "metadata": {},
   "outputs": [],
   "source": [
    "df.groupby(['Reward Type', 'Agent', 'Director']).mean('Percent Complete')"
   ]
  },
  {
   "cell_type": "code",
   "execution_count": null,
   "id": "f932a85f",
   "metadata": {},
   "outputs": [],
   "source": [
    "info['runs']"
   ]
  },
  {
   "cell_type": "code",
   "execution_count": null,
   "id": "840da9d8",
   "metadata": {
    "scrolled": true
   },
   "outputs": [],
   "source": [
    "for (rt, a, d), temp_df in df.groupby(['Reward Type', 'Agent', 'Director']):\n",
    "    counter = {}\n",
    "    for lvl_nodes in temp_df.Nodes:\n",
    "        for n in lvl_nodes:\n",
    "            if n in counter:\n",
    "                counter[n] += 1\n",
    "            else:\n",
    "                counter[n] = 1\n",
    "    \n",
    "    total = 0\n",
    "    for k in counter:\n",
    "        total += counter[k]\n",
    "        \n",
    "    print(rt,a,d, total/len(graph.nodes))"
   ]
  },
  {
   "cell_type": "code",
   "execution_count": null,
   "id": "d2c84a83",
   "metadata": {},
   "outputs": [],
   "source": []
  },
  {
   "cell_type": "code",
   "execution_count": null,
   "id": "61cbc3e8",
   "metadata": {},
   "outputs": [],
   "source": []
  }
 ],
 "metadata": {
  "kernelspec": {
   "display_name": "Python 3",
   "language": "python",
   "name": "python3"
  },
  "language_info": {
   "codemirror_mode": {
    "name": "ipython",
    "version": 3
   },
   "file_extension": ".py",
   "mimetype": "text/x-python",
   "name": "python",
   "nbconvert_exporter": "python",
   "pygments_lexer": "ipython3",
   "version": "3.8.8"
  }
 },
 "nbformat": 4,
 "nbformat_minor": 5
}
