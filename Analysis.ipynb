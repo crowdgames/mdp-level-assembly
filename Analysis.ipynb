{
 "cells": [
  {
   "cell_type": "code",
   "execution_count": 1,
   "id": "fb59d8b6",
   "metadata": {},
   "outputs": [],
   "source": [
    "%matplotlib inline\n",
    "import seaborn as sns\n",
    "import numpy as np\n",
    "import matplotlib.pyplot as plt\n",
    "import pandas as pd"
   ]
  },
  {
   "cell_type": "code",
   "execution_count": 2,
   "id": "9ada1d02",
   "metadata": {},
   "outputs": [],
   "source": [
    "from Games import *\n",
    "import Utility\n",
    "from os import listdir, mkdir\n",
    "from os.path import join, isdir\n",
    "from json import load\n",
    "from glob import glob"
   ]
  },
  {
   "cell_type": "code",
   "execution_count": 3,
   "id": "7e780b53",
   "metadata": {},
   "outputs": [],
   "source": [
    "FIGURE = 'figure'\n",
    "if not isdir(FIGURE):\n",
    "    mkdir(FIGURE)"
   ]
  },
  {
   "cell_type": "code",
   "execution_count": 76,
   "id": "c86701d5",
   "metadata": {},
   "outputs": [],
   "source": [
    "PALETTE = {\n",
    "    \"Policy\": \"red\", \n",
    "    \"Q\": \"blue\", \n",
    "    \"Random\": \"green\", \n",
    "    \"Greedy\": \"purple\"\n",
    "}"
   ]
  },
  {
   "cell_type": "code",
   "execution_count": 5,
   "id": "a891c272",
   "metadata": {},
   "outputs": [],
   "source": [
    "def get_agent_playthroughs(config, allow_empty_link, reward_str):\n",
    "    playthroughs = []\n",
    "    for path in glob(join(config.BASE_DIR, f'fitagent_*_{allow_empty_link}_reward_{reward_str}.json')):\n",
    "        with open(path, 'r') as f:\n",
    "            data = load(f)\n",
    "            playthroughs.append((path, data))\n",
    "            \n",
    "    return playthroughs"
   ]
  },
  {
   "cell_type": "code",
   "execution_count": 6,
   "id": "032e2537",
   "metadata": {},
   "outputs": [],
   "source": [
    "def get_player_playthroughs(config, player_name):\n",
    "    playthroughs = []\n",
    "    starts_with_str = f'player_{player_name}_fit_playthrough_{config.NAME}'\n",
    "    \n",
    "    for filename in listdir(config.BASE_DIR):\n",
    "        if filename.startswith(starts_with_str):\n",
    "            with open(join(config.BASE_DIR, filename), 'r') as f:\n",
    "                data = load(f)\n",
    "                playthroughs.append((filename, data))\n",
    "            \n",
    "    return playthroughs"
   ]
  },
  {
   "cell_type": "code",
   "execution_count": 7,
   "id": "5d428882",
   "metadata": {},
   "outputs": [],
   "source": [
    "def plot_reward_over_time(playthroughs, game, r_type):\n",
    "    plot_data = {}\n",
    "    for filename, data in playthroughs:\n",
    "        legend_name = filename.split('.')[1].split('_')[-5]\n",
    "        plot_data[legend_name] = []\n",
    "        total_reward = 0\n",
    "        \n",
    "        for level in data:\n",
    "            for _, _, _, _, r in level:\n",
    "                total_reward += r\n",
    "            \n",
    "            plot_data[legend_name].append(total_reward)\n",
    "    \n",
    "    keys = list(plot_data.keys())\n",
    "    keys.sort()\n",
    "    \n",
    "    sns.set(rc = {'figure.figsize':(15,8)})\n",
    "    ax = sns.lineplot(data=plot_data, palette=PALETTE, hue_order=keys)\n",
    "    ax.set_title(f'Reward over Time for {game} with {r_type}')\n",
    "    ax.set_xlabel('Level')\n",
    "    ax.set_ylabel('Reward')\n",
    "    \n",
    "    plt.tight_layout()\n",
    "    \n",
    "    plt.savefig(join(FIGURE, f'agent_reward_over_time_{game}_{game}_{r_type}.pdf'))\n",
    "    plt.show()\n",
    "    plt.close()"
   ]
  },
  {
   "cell_type": "code",
   "execution_count": 8,
   "id": "6eaee320",
   "metadata": {},
   "outputs": [],
   "source": [
    "def heatmap(playthroughs, graph, bounds, game):\n",
    "    max_x, max_y = bounds\n",
    "    fig, axes = plt.subplots(1, 4, sharex=True, sharey=True, figsize=(16,4))\n",
    "    cbar_ax = fig.add_axes([.92, .1, .02, .77])\n",
    "    fig.suptitle(f'Cells Visited by Director for {game}')\n",
    "    max_val = 0\n",
    "    keys = []\n",
    "    heatmap_data = {}\n",
    "    \n",
    "    for i, (filename, playthrough_data) in enumerate(playthroughs):\n",
    "        # build heatmap matrix for data and for the mask which blocks out\n",
    "        # cells that are not in the graph\n",
    "        director = filename.split('.')[1].split('_')[-5]\n",
    "        keys.append(director)\n",
    "        \n",
    "        data = np.zeros((max_x + 1, max_y + 1))\n",
    "        mask = np.ones((max_x + 1, max_y + 1))\n",
    "        for n in graph.nodes:\n",
    "            if '__' in n:\n",
    "                continue\n",
    "\n",
    "            a,b,_ = n.split(',')\n",
    "            mask[int(a)][int(b)] = 0.0\n",
    "\n",
    "        for run in playthrough_data:\n",
    "            for segment, _, _, _, _ in run:\n",
    "                if '__' in segment:\n",
    "                    continue\n",
    "\n",
    "                a, b, _ = segment.split(',')\n",
    "                data[int(a)][int(b)] += 1.0\n",
    "                max_val = max(data[int(a)][int(b)], max_val)\n",
    "              \n",
    "        heatmap_data[director] = (data, mask)\n",
    "        \n",
    "    keys.sort()\n",
    "    \n",
    "    for i, director in enumerate(keys):\n",
    "        data, mask = heatmap_data[director]\n",
    "        # build the heatmap\n",
    "        ax = sns.heatmap(\n",
    "            data, \n",
    "            mask=mask,\n",
    "            square=True,\n",
    "            cmap='Blues',\n",
    "            ax=axes[i],\n",
    "            cbar_ax=None if i != 3 else cbar_ax,\n",
    "            cbar=i==3,\n",
    "            vmin=0,\n",
    "            vmax=max_val\n",
    "        )\n",
    "\n",
    "        axes[i].invert_yaxis()\n",
    "        axes[i].set_title(f'{director}', y=-0.1)\n",
    "        axes[i].set_facecolor(\"gray\")\n",
    "        axes[i].set_xticks([])\n",
    "        axes[i].set_yticks([])\n",
    "        axes[i].set_aspect('auto')\n",
    "\n",
    "        # reduce frequency for xticks\n",
    "        for ind, label in enumerate(axes[i].get_xticklabels()):\n",
    "            if ind % 5 == 0:  \n",
    "                label.set_visible(True)\n",
    "            else:\n",
    "                label.set_visible(False)\n",
    "\n",
    "        # reduce frequency for y ticks\n",
    "        for ind, label in enumerate(axes[i].get_yticklabels()):\n",
    "            if ind % 5 == 0:  \n",
    "                label.set_visible(True)\n",
    "            else:\n",
    "                label.set_visible(False)\n",
    "\n",
    "    plt.show()"
   ]
  },
  {
   "cell_type": "markdown",
   "id": "4ee1f6ae",
   "metadata": {},
   "source": [
    "## Fit Agent\n",
    "### Mario\n",
    "#### Reward=Designer"
   ]
  },
  {
   "cell_type": "code",
   "execution_count": null,
   "id": "c9d9e294",
   "metadata": {},
   "outputs": [],
   "source": [
    "config = Mario\n",
    "REWARD_STR = Utility.reward_type_to_str(Utility.RewardType.DESIGNER)\n",
    "graph = Utility.get_graph(config, True)\n",
    "playthroughs = get_agent_playthroughs(config, True, REWARD_STR)"
   ]
  },
  {
   "cell_type": "code",
   "execution_count": null,
   "id": "386a091b",
   "metadata": {},
   "outputs": [],
   "source": [
    "heatmap(playthroughs, graph, config.MAX_BC, 'Mario')"
   ]
  },
  {
   "cell_type": "code",
   "execution_count": null,
   "id": "66e82482",
   "metadata": {},
   "outputs": [],
   "source": [
    "plot_reward_over_time(playthroughs, 'Mario', 'Designer Reward')"
   ]
  },
  {
   "cell_type": "markdown",
   "id": "c76d4781",
   "metadata": {},
   "source": [
    "#### Reward=Player"
   ]
  },
  {
   "cell_type": "code",
   "execution_count": null,
   "id": "f2fe42ad",
   "metadata": {},
   "outputs": [],
   "source": [
    "REWARD_STR = Utility.reward_type_to_str(Utility.RewardType.PLAYER)\n",
    "graph = Utility.get_graph(config, True)\n",
    "playthroughs = get_agent_playthroughs(config, True, REWARD_STR)"
   ]
  },
  {
   "cell_type": "code",
   "execution_count": null,
   "id": "0c3d9f87",
   "metadata": {},
   "outputs": [],
   "source": [
    "heatmap(playthroughs, graph, config.MAX_BC, 'Mario')"
   ]
  },
  {
   "cell_type": "code",
   "execution_count": null,
   "id": "447557cf",
   "metadata": {},
   "outputs": [],
   "source": [
    "plot_reward_over_time(playthroughs, 'Mario', 'Player Reward')"
   ]
  },
  {
   "cell_type": "markdown",
   "id": "f4c33381",
   "metadata": {},
   "source": [
    "#### Reward=Both"
   ]
  },
  {
   "cell_type": "code",
   "execution_count": null,
   "id": "9fd8642a",
   "metadata": {},
   "outputs": [],
   "source": [
    "REWARD_STR = Utility.reward_type_to_str(Utility.RewardType.BOTH)\n",
    "graph = Utility.get_graph(config, True)\n",
    "playthroughs = get_agent_playthroughs(config, True, REWARD_STR)"
   ]
  },
  {
   "cell_type": "code",
   "execution_count": null,
   "id": "eec45cfd",
   "metadata": {
    "scrolled": false
   },
   "outputs": [],
   "source": [
    "heatmap(playthroughs, graph, config.MAX_BC,'Mario')"
   ]
  },
  {
   "cell_type": "code",
   "execution_count": null,
   "id": "528e308d",
   "metadata": {
    "scrolled": false
   },
   "outputs": [],
   "source": [
    "plot_reward_over_time(playthroughs, 'Mario', 'Designer and Player Reward')"
   ]
  },
  {
   "cell_type": "markdown",
   "id": "0f296d52",
   "metadata": {},
   "source": [
    "### DungeonGrams\n",
    "#### Reward=Designer"
   ]
  },
  {
   "cell_type": "code",
   "execution_count": null,
   "id": "c76b1fce",
   "metadata": {},
   "outputs": [],
   "source": [
    "config = DungeonGrams\n",
    "REWARD_STR = Utility.reward_type_to_str(Utility.RewardType.DESIGNER)\n",
    "graph = Utility.get_graph(config, False)\n",
    "playthroughs = get_agent_playthroughs(config, False, REWARD_STR)"
   ]
  },
  {
   "cell_type": "code",
   "execution_count": null,
   "id": "c610aea5",
   "metadata": {},
   "outputs": [],
   "source": [
    "heatmap(playthroughs, graph, config.MAX_BC, 'DungeonGrams')"
   ]
  },
  {
   "cell_type": "code",
   "execution_count": null,
   "id": "4e1c4ee9",
   "metadata": {},
   "outputs": [],
   "source": [
    "plot_reward_over_time(playthroughs, 'DungeonGrams', 'Designer Reward')"
   ]
  },
  {
   "cell_type": "markdown",
   "id": "4402dd6d",
   "metadata": {},
   "source": [
    "#### Reward=Player"
   ]
  },
  {
   "cell_type": "code",
   "execution_count": null,
   "id": "e9149925",
   "metadata": {},
   "outputs": [],
   "source": [
    "REWARD_STR = Utility.reward_type_to_str(Utility.RewardType.BOTH)\n",
    "graph = Utility.get_graph(config, False)\n",
    "playthroughs = get_agent_playthroughs(config, False, REWARD_STR)"
   ]
  },
  {
   "cell_type": "code",
   "execution_count": null,
   "id": "3f7261d2",
   "metadata": {},
   "outputs": [],
   "source": [
    "heatmap(playthroughs, graph, config.MAX_BC, 'DungeonGrams')"
   ]
  },
  {
   "cell_type": "code",
   "execution_count": null,
   "id": "6b668535",
   "metadata": {},
   "outputs": [],
   "source": [
    "plot_reward_over_time(playthroughs, 'DungeonGrams', 'Player Reward')"
   ]
  },
  {
   "cell_type": "markdown",
   "id": "e37fb626",
   "metadata": {},
   "source": [
    "#### Reward=Both"
   ]
  },
  {
   "cell_type": "code",
   "execution_count": null,
   "id": "09c65387",
   "metadata": {},
   "outputs": [],
   "source": [
    "REWARD_STR = Utility.reward_type_to_str(Utility.RewardType.BOTH)\n",
    "graph = Utility.get_graph(config, False)\n",
    "playthroughs = get_agent_playthroughs(config, False, REWARD_STR)"
   ]
  },
  {
   "cell_type": "code",
   "execution_count": null,
   "id": "391cfe02",
   "metadata": {},
   "outputs": [],
   "source": [
    "heatmap(playthroughs, graph, config.MAX_BC, config.NAME)"
   ]
  },
  {
   "cell_type": "code",
   "execution_count": null,
   "id": "1fd50ae4",
   "metadata": {},
   "outputs": [],
   "source": [
    "plot_reward_over_time(playthroughs, 'DungeonGrams', 'Designer and Player Reward')"
   ]
  },
  {
   "cell_type": "markdown",
   "id": "ef0e1cf9",
   "metadata": {},
   "source": [
    "### Icarus\n",
    "#### Reward=Designer"
   ]
  },
  {
   "cell_type": "code",
   "execution_count": null,
   "id": "236f464c",
   "metadata": {},
   "outputs": [],
   "source": [
    "config = Icarus\n",
    "REWARD_STR = Utility.reward_type_to_str(Utility.RewardType.DESIGNER)\n",
    "graph = Utility.get_graph(config, True)\n",
    "playthroughs = get_agent_playthroughs(config, True, REWARD_STR)"
   ]
  },
  {
   "cell_type": "code",
   "execution_count": null,
   "id": "3e8ef374",
   "metadata": {},
   "outputs": [],
   "source": [
    "heatmap(playthroughs, graph, config.MAX_BC, 'Icarus')"
   ]
  },
  {
   "cell_type": "code",
   "execution_count": null,
   "id": "667a4838",
   "metadata": {},
   "outputs": [],
   "source": [
    "plot_reward_over_time(playthroughs, 'Icarus', 'Designer Reward')"
   ]
  },
  {
   "cell_type": "markdown",
   "id": "0fbef3fd",
   "metadata": {},
   "source": [
    "#### Reward=Player"
   ]
  },
  {
   "cell_type": "code",
   "execution_count": null,
   "id": "cc540449",
   "metadata": {},
   "outputs": [],
   "source": [
    "REWARD_STR = Utility.reward_type_to_str(Utility.RewardType.PLAYER)\n",
    "graph = Utility.get_graph(config, True)\n",
    "playthroughs = get_agent_playthroughs(config, True, REWARD_STR)"
   ]
  },
  {
   "cell_type": "code",
   "execution_count": null,
   "id": "8beceacd",
   "metadata": {},
   "outputs": [],
   "source": [
    "heatmap(playthroughs, graph, config.MAX_BC, 'Icarus')"
   ]
  },
  {
   "cell_type": "code",
   "execution_count": null,
   "id": "6977d0c5",
   "metadata": {},
   "outputs": [],
   "source": [
    "plot_reward_over_time(playthroughs, 'Icarus', 'Player Reward')"
   ]
  },
  {
   "cell_type": "markdown",
   "id": "5138eb05",
   "metadata": {},
   "source": [
    "#### Reward=Both"
   ]
  },
  {
   "cell_type": "code",
   "execution_count": null,
   "id": "e22f1319",
   "metadata": {},
   "outputs": [],
   "source": [
    "REWARD_STR = Utility.reward_type_to_str(Utility.RewardType.BOTH)\n",
    "graph = Utility.get_graph(config, True)\n",
    "playthroughs = get_agent_playthroughs(config, True, REWARD_STR)"
   ]
  },
  {
   "cell_type": "code",
   "execution_count": null,
   "id": "72070641",
   "metadata": {},
   "outputs": [],
   "source": [
    "heatmap(playthroughs, graph, config.MAX_BC, 'Icarus')"
   ]
  },
  {
   "cell_type": "code",
   "execution_count": null,
   "id": "9a38935d",
   "metadata": {},
   "outputs": [],
   "source": [
    "plot_reward_over_time(playthroughs, 'Icarus', 'Designer and Player Reward')"
   ]
  },
  {
   "cell_type": "markdown",
   "id": "2d738d4e",
   "metadata": {},
   "source": [
    "# Player Personas"
   ]
  },
  {
   "cell_type": "code",
   "execution_count": 61,
   "id": "8e9d35a8",
   "metadata": {},
   "outputs": [],
   "source": [
    "def get_all_player_playthroughs(config, reward_str):\n",
    "    playthroughs = []\n",
    "    for path in glob(join(config.BASE_DIR, f'player*reward_{reward_str}.json')):\n",
    "        path_split = path.split('/')[-1].split('_')\n",
    "        player = path_split[1]\n",
    "        director = path_split[-3]\n",
    "        \n",
    "        with open(path, 'r') as f:\n",
    "            playthroughs.append((player, director, load(f)))\n",
    "\n",
    "    return playthroughs"
   ]
  },
  {
   "cell_type": "code",
   "execution_count": 56,
   "id": "835c72ac",
   "metadata": {},
   "outputs": [],
   "source": [
    "def get_df(playthroughs, order_column):\n",
    "    data = []\n",
    "    labels = ['Director', 'Player', 'Percent Complete', 'Player Reward', 'Design Reward','Total Reward']\n",
    "    players = set()\n",
    "    RUNS_SIZE = len(player_playthroughs[2][2][0])\n",
    "    \n",
    "    for player, director, run_data in playthroughs:\n",
    "        players.add(player)\n",
    "        for run in run_data:\n",
    "            run_percent_complete = 0\n",
    "            run_player_reward = 0\n",
    "            run_design_reward = 0\n",
    "            run_total_reward = 0\n",
    "\n",
    "            for lvl in run:\n",
    "                run_percent_complete += lvl['percent_complete']\n",
    "                run_player_reward += lvl['percent_player_reward']\n",
    "                run_design_reward += lvl['percent_design_reward']\n",
    "                run_total_reward += lvl['percent_total_reward']\n",
    "                    \n",
    "            data.append((\n",
    "                director, \n",
    "                player, \n",
    "                run_percent_complete / RUNS_SIZE, \n",
    "                run_player_reward / RUNS_SIZE, \n",
    "                run_design_reward / RUNS_SIZE, \n",
    "                run_total_reward / RUNS_SIZE))\n",
    "            \n",
    "    df = pd.DataFrame(data, columns=labels) \\\n",
    "         .groupby(['Player', 'Director']) \\\n",
    "         .agg(['mean', 'std']) \\\n",
    "         .sort_values(by=['Player', (order_column, 'mean')], ascending=False)\n",
    "    df = df.applymap(\"{0:.3f}\".format)\n",
    "    return df"
   ]
  },
  {
   "cell_type": "code",
   "execution_count": 72,
   "id": "85af5611",
   "metadata": {},
   "outputs": [],
   "source": [
    "def plot_player_personas_over_time(playthroughs, column, reward_name):\n",
    "    player_data = {}\n",
    "    for player, alg, data in player_playthroughs:\n",
    "        if player not in player_data:\n",
    "            player_data[player] = []\n",
    "            \n",
    "        for session in data:\n",
    "            total_reward = 0\n",
    "            for i, lvl in enumerate(session):\n",
    "                total_reward += lvl[column]\n",
    "                player_data[player].append((alg, i, total_reward))\n",
    "                \n",
    "    # sort keys so the output is always in the same order\n",
    "    player_names = list(player_data.keys())\n",
    "    player_names.sort()\n",
    "    \n",
    "    # build plots and set title\n",
    "    fig, axes = plt.subplots(2, 4, sharex=True, sharey=True, figsize=(16,8))\n",
    "    fig.suptitle(f'Reward Over Time for {reward_name}')\n",
    "    \n",
    "    # fill in each plot\n",
    "    for i, player in enumerate(player_names):\n",
    "        plot_df = pd.DataFrame(player_data[player], columns=['alg', 'level', 'reward'])\n",
    "        \n",
    "        if i >= 4:\n",
    "            x,y = i-4, 1\n",
    "        else:\n",
    "            x,y = i, 0\n",
    "            \n",
    "        ax = sns.lineplot(ax=axes[y, x], data=plot_df, x='level', y='reward', hue='alg', palette=PALETTE)\n",
    "#         ax = sns.lineplot(ax=axes[y, x], data=plot_df, x='level', y='reward',  palette=PALETTE)\n",
    "#         ax.get_legend().remove()\n",
    "#         ax.set_xlabel('')\n",
    "#         ax.set_ylabel('')\n",
    "#         ax.set_title(player)\n",
    "    \n",
    "    handles, labels = ax.get_legend_handles_labels()\n",
    "    fig.legend(handles, labels, loc='upper right', ncol=2, bbox_to_anchor=(.905, 0.99))\n",
    "    fig.text(0.5, 0.04, 'Level', ha='center', size=14)\n",
    "    fig.text(0.08, 0.5, 'Reward', va='center', rotation='vertical', size=14)\n",
    "    plt.show()"
   ]
  },
  {
   "cell_type": "markdown",
   "id": "9508b014",
   "metadata": {},
   "source": [
    "## Mario\n",
    "### R=Desiner"
   ]
  },
  {
   "cell_type": "code",
   "execution_count": 67,
   "id": "1d97ec0f",
   "metadata": {
    "scrolled": false
   },
   "outputs": [
    {
     "name": "stdout",
     "output_type": "stream",
     "text": [
      "Loading links from: ./GramElitesData/MarioData/gram_elites/links_True.json\n"
     ]
    },
    {
     "ename": "IndexError",
     "evalue": "list index out of range",
     "output_type": "error",
     "traceback": [
      "\u001b[0;31m---------------------------------------------------------------------------\u001b[0m",
      "\u001b[0;31mIndexError\u001b[0m                                Traceback (most recent call last)",
      "\u001b[0;32m<ipython-input-67-45c76f3d46ea>\u001b[0m in \u001b[0;36m<module>\u001b[0;34m\u001b[0m\n\u001b[1;32m      3\u001b[0m \u001b[0mgraph\u001b[0m \u001b[0;34m=\u001b[0m \u001b[0mUtility\u001b[0m\u001b[0;34m.\u001b[0m\u001b[0mget_level_segment_graph\u001b[0m\u001b[0;34m(\u001b[0m\u001b[0mconfig\u001b[0m\u001b[0;34m,\u001b[0m \u001b[0;32mTrue\u001b[0m\u001b[0;34m)\u001b[0m\u001b[0;34m\u001b[0m\u001b[0;34m\u001b[0m\u001b[0m\n\u001b[1;32m      4\u001b[0m \u001b[0mplayer_playthroughs\u001b[0m \u001b[0;34m=\u001b[0m \u001b[0mget_all_player_playthroughs\u001b[0m\u001b[0;34m(\u001b[0m\u001b[0mconfig\u001b[0m\u001b[0;34m,\u001b[0m \u001b[0mREWARD_STR\u001b[0m\u001b[0;34m)\u001b[0m\u001b[0;34m\u001b[0m\u001b[0;34m\u001b[0m\u001b[0m\n\u001b[0;32m----> 5\u001b[0;31m \u001b[0mdf\u001b[0m \u001b[0;34m=\u001b[0m \u001b[0mget_df\u001b[0m\u001b[0;34m(\u001b[0m\u001b[0mplayer_playthroughs\u001b[0m\u001b[0;34m,\u001b[0m \u001b[0;34m'Design Reward'\u001b[0m\u001b[0;34m)\u001b[0m\u001b[0;34m\u001b[0m\u001b[0;34m\u001b[0m\u001b[0m\n\u001b[0m\u001b[1;32m      6\u001b[0m \u001b[0mmario_player_persona_designer_table\u001b[0m \u001b[0;34m=\u001b[0m \u001b[0mdf\u001b[0m\u001b[0;34m.\u001b[0m\u001b[0mto_latex\u001b[0m\u001b[0;34m(\u001b[0m\u001b[0;34m)\u001b[0m \u001b[0;31m# store in case we want it\u001b[0m\u001b[0;34m\u001b[0m\u001b[0;34m\u001b[0m\u001b[0m\n",
      "\u001b[0;32m<ipython-input-56-b1573e0a77b1>\u001b[0m in \u001b[0;36mget_df\u001b[0;34m(playthroughs, order_column)\u001b[0m\n\u001b[1;32m      3\u001b[0m     \u001b[0mlabels\u001b[0m \u001b[0;34m=\u001b[0m \u001b[0;34m[\u001b[0m\u001b[0;34m'Director'\u001b[0m\u001b[0;34m,\u001b[0m \u001b[0;34m'Player'\u001b[0m\u001b[0;34m,\u001b[0m \u001b[0;34m'Percent Complete'\u001b[0m\u001b[0;34m,\u001b[0m \u001b[0;34m'Player Reward'\u001b[0m\u001b[0;34m,\u001b[0m \u001b[0;34m'Design Reward'\u001b[0m\u001b[0;34m,\u001b[0m\u001b[0;34m'Total Reward'\u001b[0m\u001b[0;34m]\u001b[0m\u001b[0;34m\u001b[0m\u001b[0;34m\u001b[0m\u001b[0m\n\u001b[1;32m      4\u001b[0m     \u001b[0mplayers\u001b[0m \u001b[0;34m=\u001b[0m \u001b[0mset\u001b[0m\u001b[0;34m(\u001b[0m\u001b[0;34m)\u001b[0m\u001b[0;34m\u001b[0m\u001b[0;34m\u001b[0m\u001b[0m\n\u001b[0;32m----> 5\u001b[0;31m     \u001b[0mRUNS_SIZE\u001b[0m \u001b[0;34m=\u001b[0m \u001b[0mlen\u001b[0m\u001b[0;34m(\u001b[0m\u001b[0mplayer_playthroughs\u001b[0m\u001b[0;34m[\u001b[0m\u001b[0;36m2\u001b[0m\u001b[0;34m]\u001b[0m\u001b[0;34m[\u001b[0m\u001b[0;36m2\u001b[0m\u001b[0;34m]\u001b[0m\u001b[0;34m[\u001b[0m\u001b[0;36m0\u001b[0m\u001b[0;34m]\u001b[0m\u001b[0;34m)\u001b[0m\u001b[0;34m\u001b[0m\u001b[0;34m\u001b[0m\u001b[0m\n\u001b[0m\u001b[1;32m      6\u001b[0m \u001b[0;34m\u001b[0m\u001b[0m\n\u001b[1;32m      7\u001b[0m     \u001b[0;32mfor\u001b[0m \u001b[0mplayer\u001b[0m\u001b[0;34m,\u001b[0m \u001b[0mdirector\u001b[0m\u001b[0;34m,\u001b[0m \u001b[0mrun_data\u001b[0m \u001b[0;32min\u001b[0m \u001b[0mplaythroughs\u001b[0m\u001b[0;34m:\u001b[0m\u001b[0;34m\u001b[0m\u001b[0;34m\u001b[0m\u001b[0m\n",
      "\u001b[0;31mIndexError\u001b[0m: list index out of range"
     ]
    }
   ],
   "source": [
    "config = Mario\n",
    "REWARD_STR = Utility.reward_type_to_str(Utility.RewardType.DESIGNER)\n",
    "graph = Utility.get_level_segment_graph(config, True)\n",
    "player_playthroughs = get_all_player_playthroughs(config, REWARD_STR)\n",
    "df = get_df(player_playthroughs, 'Design Reward')\n",
    "mario_player_persona_designer_table = df.to_latex() # store in case we want it"
   ]
  },
  {
   "cell_type": "code",
   "execution_count": null,
   "id": "becc9035",
   "metadata": {
    "scrolled": false
   },
   "outputs": [],
   "source": [
    "plot_player_personas_over_time(player_playthroughs, 'percent_design_reward', 'Designer Reward')"
   ]
  },
  {
   "cell_type": "markdown",
   "id": "289b039f",
   "metadata": {},
   "source": [
    "### R=Player"
   ]
  },
  {
   "cell_type": "code",
   "execution_count": null,
   "id": "c31bfa65",
   "metadata": {},
   "outputs": [],
   "source": [
    "REWARD_STR = Utility.reward_type_to_str(Utility.RewardType.PLAYER)\n",
    "player_playthroughs = get_all_player_playthroughs(config, True, REWARD_STR)\n",
    "df = get_df(player_playthroughs, 'Player Reward')\n",
    "mario_player_persona_player_table = df.to_latex() # store in case we want it"
   ]
  },
  {
   "cell_type": "code",
   "execution_count": null,
   "id": "d248a980",
   "metadata": {},
   "outputs": [],
   "source": [
    "plot_player_personas_over_time(player_playthroughs, 'percent_player_reward', 'Player Reward')"
   ]
  },
  {
   "cell_type": "markdown",
   "id": "161c5d78",
   "metadata": {},
   "source": [
    "### R=Both"
   ]
  },
  {
   "cell_type": "code",
   "execution_count": 74,
   "id": "a7476078",
   "metadata": {},
   "outputs": [],
   "source": [
    "REWARD_STR = Utility.reward_type_to_str(Utility.RewardType.BOTH)\n",
    "player_playthroughs = get_all_player_playthroughs(config, REWARD_STR)\n",
    "df = get_df(player_playthroughs, 'Player Reward')\n",
    "mario_player_persona_player_table = df.to_latex() # store in case we want it"
   ]
  },
  {
   "cell_type": "code",
   "execution_count": 77,
   "id": "b1cb32d0",
   "metadata": {},
   "outputs": [
    {
     "data": {
      "image/png": "[encoded data removed]",
      "text/plain": [
       "<Figure size 1152x576 with 8 Axes>"
      ]
     },
     "metadata": {
      "needs_background": "light"
     },
     "output_type": "display_data"
    }
   ],
   "source": [
    "plot_player_personas_over_time(player_playthroughs, 'percent_total_reward', 'Total Reward')"
   ]
  },
  {
   "cell_type": "markdown",
   "id": "6071e948",
   "metadata": {},
   "source": [
    "## Icarus\n",
    "### R=Designer"
   ]
  },
  {
   "cell_type": "code",
   "execution_count": null,
   "id": "936b4fe7",
   "metadata": {},
   "outputs": [],
   "source": [
    "config = Icarus\n",
    "REWARD_STR = Utility.reward_type_to_str(Utility.RewardType.DESIGNER)\n",
    "player_playthroughs = get_all_player_playthroughs(config, True, REWARD_STR)\n",
    "df = get_df(player_playthroughs, 'Design Reward')\n",
    "mario_player_persona_designer_table = df.to_latex() # store in case we want it"
   ]
  },
  {
   "cell_type": "code",
   "execution_count": null,
   "id": "9a663df2",
   "metadata": {},
   "outputs": [],
   "source": [
    "plot_player_personas_over_time(player_playthroughs, 'percent_design_reward', 'Designer Reward')"
   ]
  },
  {
   "cell_type": "markdown",
   "id": "f56c589d",
   "metadata": {},
   "source": [
    "### R=Player"
   ]
  },
  {
   "cell_type": "code",
   "execution_count": null,
   "id": "182aadad",
   "metadata": {},
   "outputs": [],
   "source": [
    "REWARD_STR = Utility.reward_type_to_str(Utility.RewardType.PLAYER)\n",
    "player_playthroughs = get_all_player_playthroughs(config, True, REWARD_STR)\n",
    "df = get_df(player_playthroughs, 'Design Reward')\n",
    "mario_player_persona_designer_table = df.to_latex() # store in case we want it"
   ]
  },
  {
   "cell_type": "code",
   "execution_count": null,
   "id": "2893ac7a",
   "metadata": {},
   "outputs": [],
   "source": [
    "plot_player_personas_over_time(player_playthroughs, 'percent_player_reward', 'Player Reward')"
   ]
  },
  {
   "cell_type": "markdown",
   "id": "dd934b36",
   "metadata": {},
   "source": [
    "### R=Both"
   ]
  },
  {
   "cell_type": "code",
   "execution_count": null,
   "id": "72e04dcd",
   "metadata": {},
   "outputs": [],
   "source": [
    "REWARD_STR = Utility.reward_type_to_str(Utility.RewardType.BOTH)\n",
    "player_playthroughs = get_all_player_playthroughs(config, True, REWARD_STR)\n",
    "df = get_df(player_playthroughs, 'Design Reward')\n",
    "mario_player_persona_designer_table = df.to_latex() # store in case we want it"
   ]
  },
  {
   "cell_type": "code",
   "execution_count": null,
   "id": "d5cbca29",
   "metadata": {},
   "outputs": [],
   "source": [
    "plot_player_personas_over_time(player_playthroughs, 'percent_total_reward', 'Total Reward')"
   ]
  },
  {
   "cell_type": "markdown",
   "id": "d0ff38e6",
   "metadata": {},
   "source": [
    "## DungeonGram\n",
    "### R=Designer"
   ]
  },
  {
   "cell_type": "code",
   "execution_count": null,
   "id": "e8959f8a",
   "metadata": {},
   "outputs": [],
   "source": [
    "config = DungeonGrams\n",
    "REWARD_STR = Utility.reward_type_to_str(Utility.RewardType.DESIGNER)\n",
    "player_playthroughs = get_all_player_playthroughs(config, False, REWARD_STR)\n",
    "df = get_df(player_playthroughs, 'Design Reward')\n",
    "mario_player_persona_designer_table = df.to_latex() # store in case we want it"
   ]
  },
  {
   "cell_type": "code",
   "execution_count": null,
   "id": "3a0e3a8b",
   "metadata": {},
   "outputs": [],
   "source": [
    "plot_player_personas_over_time(player_playthroughs, 'percent_design_reward', 'Designer Reward')"
   ]
  },
  {
   "cell_type": "markdown",
   "id": "52ea633c",
   "metadata": {},
   "source": [
    "### R=Player"
   ]
  },
  {
   "cell_type": "code",
   "execution_count": null,
   "id": "0b9e12bc",
   "metadata": {},
   "outputs": [],
   "source": [
    "REWARD_STR = Utility.reward_type_to_str(Utility.RewardType.PLAYER)\n",
    "player_playthroughs = get_all_player_playthroughs(config, False, REWARD_STR)\n",
    "df = get_df(player_playthroughs, 'Design Reward')\n",
    "mario_player_persona_designer_table = df.to_latex() # store in case we want it"
   ]
  },
  {
   "cell_type": "code",
   "execution_count": null,
   "id": "3676b768",
   "metadata": {},
   "outputs": [],
   "source": [
    "plot_player_personas_over_time(player_playthroughs, 'percent_player_reward', 'Player Reward')"
   ]
  },
  {
   "cell_type": "markdown",
   "id": "0aba3daa",
   "metadata": {},
   "source": [
    "### R=Both"
   ]
  },
  {
   "cell_type": "code",
   "execution_count": null,
   "id": "6dee41fd",
   "metadata": {},
   "outputs": [],
   "source": [
    "REWARD_STR = Utility.reward_type_to_str(Utility.RewardType.BOTH)\n",
    "player_playthroughs = get_all_player_playthroughs(config, False, REWARD_STR)\n",
    "df = get_df(player_playthroughs, 'Design Reward')\n",
    "mario_player_persona_designer_table = df.to_latex() # store in case we want it"
   ]
  },
  {
   "cell_type": "code",
   "execution_count": null,
   "id": "6a0094da",
   "metadata": {},
   "outputs": [],
   "source": [
    "plot_player_personas_over_time(player_playthroughs, 'percent_total_reward', 'Total Reward')"
   ]
  }
 ],
 "metadata": {
  "kernelspec": {
   "display_name": "Python 3",
   "language": "python",
   "name": "python3"
  },
  "language_info": {
   "codemirror_mode": {
    "name": "ipython",
    "version": 3
   },
   "file_extension": ".py",
   "mimetype": "text/x-python",
   "name": "python",
   "nbconvert_exporter": "python",
   "pygments_lexer": "ipython3",
   "version": "3.8.8"
  }
 },
 "nbformat": 4,
 "nbformat_minor": 5
}
